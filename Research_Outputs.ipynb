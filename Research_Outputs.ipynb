{
 "cells": [
  {
   "cell_type": "markdown",
   "metadata": {},
   "source": [
    "# Pure API Demonstration: Research Outputs\n",
    "\n",
    "These notebooks demonstrate some uses of the API of Elsevier's *Pure* Current Research Information System (CRIS). This notebook demonstrates some requests for research outputs.\n",
    "\n",
    "**Enter API details - including an API key which gives access to the `research-outputs` endpoint - in [`_Config_DO_THIS_FIRST.ipynb`](./_Config_DO_THIS_FIRST.ipynb) and execute that notebook before executing this notebook.**"
   ]
  },
  {
   "cell_type": "code",
   "execution_count": null,
   "metadata": {},
   "outputs": [],
   "source": [
    "# We're using the requests library to talk to the API\n",
    "import requests\n",
    "\n",
    "# The display, HTML and Markdown libraries will help render HTML and Markdown\n",
    "from IPython.core.display import display, HTML, Markdown\n",
    "\n",
    "# The utility_functions.py script includes:\n",
    "# - pretty_print_json(json_object, ind=4) - prints json with indentation and colours\n",
    "import utility_functions as uf"
   ]
  },
  {
   "cell_type": "code",
   "execution_count": null,
   "metadata": {},
   "outputs": [],
   "source": [
    "# Retrieve the api_url and headers set in the config notebook\n",
    "%store -r api_url\n",
    "%store -r headers"
   ]
  },
  {
   "cell_type": "markdown",
   "metadata": {},
   "source": [
    "## Research Outputs\n",
    "\n",
    "### Simple unqualified request"
   ]
  },
  {
   "cell_type": "code",
   "execution_count": null,
   "metadata": {},
   "outputs": [],
   "source": [
    "# Make request to /research-outputs with no parameters\n",
    "# By default, returns most recent research outputs in descending date order\n",
    "request_url = \"/\".join([api_url,\"research-outputs\"])\n",
    "response = requests.get(url=request_url, headers=headers)\n",
    "research_outputs_json = response.json()"
   ]
  },
  {
   "cell_type": "code",
   "execution_count": null,
   "metadata": {},
   "outputs": [],
   "source": [
    "# Display raw output\n",
    "uf.pretty_print_json(research_outputs_json)"
   ]
  },
  {
   "cell_type": "code",
   "execution_count": null,
   "metadata": {},
   "outputs": [],
   "source": [
    "# Print the UUIDs and titles of all returned items\n",
    "for item  in research_outputs_json[\"items\"]:\n",
    "    print(item[\"uuid\"], \":\", item[\"title\"])"
   ]
  },
  {
   "cell_type": "markdown",
   "metadata": {},
   "source": [
    "### Get only specified fields"
   ]
  },
  {
   "cell_type": "code",
   "execution_count": null,
   "metadata": {},
   "outputs": [],
   "source": [
    "# Set the request parameters specifying the desired fields:\n",
    "# - pureId\n",
    "# - uuid\n",
    "# - title\n",
    "# - open access status\n",
    "# - names of associated persons\n",
    "request_params = {\"fields\" : [\"pureId\", \"uuid\", \"title\", \"openAccessPermission.value\", \"personAssociations.name.*\"]}\n",
    "response = requests.get(url=request_url, headers=headers, params=request_params)\n",
    "research_outputs_json = response.json()"
   ]
  },
  {
   "cell_type": "code",
   "execution_count": null,
   "metadata": {},
   "outputs": [],
   "source": [
    "# Display raw output\n",
    "uf.pretty_print_json(research_outputs_json)"
   ]
  },
  {
   "cell_type": "markdown",
   "metadata": {},
   "source": [
    "### Get HTML renderings\n",
    "\n",
    "Note that when requesting specific renderings, almost all other fields will not be included in the response unless explicitly requested using the \"fields\" parameter as above."
   ]
  },
  {
   "cell_type": "code",
   "execution_count": null,
   "metadata": {},
   "outputs": [],
   "source": [
    "# Set the request parameters - specifying standard, harvard and apa renderings\n",
    "request_params = {\"rendering\" : [\"standard\", \"harvard\", \"apa\"]}\n",
    "response = requests.get(url=request_url, headers=headers, params=request_params)\n",
    "research_outputs_json = response.json()"
   ]
  },
  {
   "cell_type": "code",
   "execution_count": null,
   "metadata": {},
   "outputs": [],
   "source": [
    "# Display raw output\n",
    "uf.pretty_print_json(research_outputs_json)"
   ]
  },
  {
   "cell_type": "code",
   "execution_count": null,
   "metadata": {},
   "outputs": [],
   "source": [
    "# Render all HTML\n",
    "for item in research_outputs_json[\"items\"]:\n",
    "    # Display the format and render the content of each rendering\n",
    "    for r in item[\"rendering\"]:\n",
    "        display(HTML(\"<h4>\" + r[\"format\"] + \"</h4>\"))\n",
    "        display(HTML(r[\"value\"]))"
   ]
  }
 ],
 "metadata": {
  "kernelspec": {
   "display_name": "Python 3",
   "language": "python",
   "name": "python3"
  },
  "language_info": {
   "codemirror_mode": {
    "name": "ipython",
    "version": 3
   },
   "file_extension": ".py",
   "mimetype": "text/x-python",
   "name": "python",
   "nbconvert_exporter": "python",
   "pygments_lexer": "ipython3",
   "version": "3.7.3"
  }
 },
 "nbformat": 4,
 "nbformat_minor": 2
}
