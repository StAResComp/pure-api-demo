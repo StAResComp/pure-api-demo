{
 "cells": [
  {
   "cell_type": "markdown",
   "metadata": {},
   "source": [
    "# Pure API Demonstration: Persons\n",
    "\n",
    "These notebooks demonstrate some uses of the API of Elsevier's *Pure* Current Research Information System (CRIS). This notebook demonstrates some requests for research software.\n",
    "\n",
    "Research Software is currently recorded in Pure as a type of Research Output.\n",
    "\n",
    "**Enter API details - including an API key which gives access to the `persons` and `organisational-units` endpoints - in [`_Config_DO_THIS_FIRST.ipynb`](./_Config_DO_THIS_FIRST.ipynb) and execute that notebook before executing this notebook.**"
   ]
  },
  {
   "cell_type": "code",
   "execution_count": null,
   "metadata": {},
   "outputs": [],
   "source": [
    "# We're using the requests library to talk to the API\n",
    "import requests\n",
    "\n",
    "# We need the json library to manipulate json\n",
    "import json\n",
    "\n",
    "# We'll use the bokeh library to generate our visualisations (we need math to rotate labels 90 degrees)\n",
    "from bokeh.io import show, output_notebook\n",
    "from bokeh.plotting import figure\n",
    "from bokeh.palettes import PuBu\n",
    "import math\n",
    "\n",
    "# The display, HTML and Markdown libraries will help render HTML and Markdown\n",
    "from IPython.core.display import display, HTML, Markdown\n",
    "\n",
    "# The utility_functions.py script includes:\n",
    "# - pretty_print_json(json_object, ind=4) - prints json with indentation and colours\n",
    "import utility_functions as uf"
   ]
  },
  {
   "cell_type": "code",
   "execution_count": null,
   "metadata": {},
   "outputs": [],
   "source": [
    "# Retrieve the api_url and headers set in the config notebook\n",
    "%store -r api_url\n",
    "%store -r headers"
   ]
  },
  {
   "cell_type": "code",
   "execution_count": null,
   "metadata": {},
   "outputs": [],
   "source": [
    "# We'll be making requests to /organisational-units and /persons\n",
    "orgs_request_url = \"/\".join([api_url,\"organisational-units\"])\n",
    "persons_request_url = \"/\".join([api_url,\"persons\"])\n",
    "\n",
    "# We'll be making POST requests, so we need to modify the default headers\n",
    "# to indicate how we're formatting the data we're sending\n",
    "post_headers = headers.copy()\n",
    "post_headers[\"Content-Type\"] = 'application/json'"
   ]
  },
  {
   "cell_type": "markdown",
   "metadata": {},
   "source": [
    "## Proportion of people in each School with an ORCID\n",
    "\n",
    "### Identify the schools\n",
    "\n",
    "First, we need to use the `organisational-units` endpoint to get a list of schools."
   ]
  },
  {
   "cell_type": "code",
   "execution_count": null,
   "metadata": {},
   "outputs": [],
   "source": [
    "# Create the JSON structure using dicts/lists\n",
    "# We only need the identifiers and names\n",
    "# We only want current organisations\n",
    "# Ordering alphabetically by name\n",
    "org_request_body = {\n",
    "    \"organisationalUnitTypeUris\": [\n",
    "        \"/dk/atira/pure/organisation/organisationtypes/organisation/school\"\n",
    "    ],\n",
    "    \"orderings\": [\n",
    "        \"name\"\n",
    "    ],\n",
    "    \"fields\": [\n",
    "        \"uuid\",\n",
    "        \"name.value\"\n",
    "    ],\n",
    "    \"organisationalUnitPeriodStatus\": \"ACTIVE\",\n",
    "    \"size\": 50\n",
    "}\n",
    "# Serialize as JSON\n",
    "org_request_json = json.dumps(org_request_body)\n",
    "\n",
    "# Make the request\n",
    "org_response = requests.post(url=orgs_request_url, headers=post_headers, data=org_request_json)\n",
    "schools_json = org_response.json()\n",
    "\n",
    "# Display details\n",
    "for item in schools_json[\"items\"]:\n",
    "    print(item[\"uuid\"],item[\"name\"][0][\"value\"])"
   ]
  },
  {
   "cell_type": "markdown",
   "metadata": {},
   "source": [
    "### Get proportion of people with ORCIDs by School"
   ]
  },
  {
   "cell_type": "code",
   "execution_count": null,
   "metadata": {},
   "outputs": [],
   "source": [
    "# Create the JSON structure using dicts/lists\n",
    "# We only need uuids and orcids\n",
    "# We only want current people\n",
    "persons_request_body = {\n",
    "  \"employmentStatus\": \"ACTIVE\",\n",
    "  \"fields\": [ \"uuid\", \"orcid\"],\n",
    "  \"forOrganisations\": {\n",
    "    \"uuids\": [\"\"],\n",
    "    \"organisationalUnitPeriodStatus\": \"ACTIVE\"\n",
    "  },\n",
    "  \"size\": 2000\n",
    "}\n",
    "\n",
    "orcid_pcs = {}\n",
    "\n",
    "for school in schools_json[\"items\"]:\n",
    "    \n",
    "    # Specify the school in the request\n",
    "    persons_request_body[\"forOrganisations\"][\"uuids\"][0] = school[\"uuid\"]\n",
    "    \n",
    "    #Serialise the request as JSON\n",
    "    persons_request_json = json.dumps(persons_request_body)\n",
    "    \n",
    "    # Make the request\n",
    "    persons_response = requests.post(url=persons_request_url, headers=post_headers, data=persons_request_json)\n",
    "    persons_json = persons_response.json()\n",
    "        \n",
    "    # Count the total number of people and those with ORCIDs\n",
    "    total_people = persons_json[\"count\"]\n",
    "    \n",
    "    people_with_orcids = 0\n",
    "    for person in persons_json[\"items\"]:\n",
    "        if \"orcid\" in person:\n",
    "            people_with_orcids += 1\n",
    "        \n",
    "    orcid_pcs[school[\"name\"][0][\"value\"]] = people_with_orcids / total_people * 100\n",
    "    \n",
    "print(orcid_pcs)"
   ]
  },
  {
   "cell_type": "markdown",
   "metadata": {},
   "source": [
    "### Visualise the results"
   ]
  },
  {
   "cell_type": "code",
   "execution_count": null,
   "metadata": {},
   "outputs": [],
   "source": [
    "output_notebook()\n",
    "\n",
    "# x labels need to be strings\n",
    "x_labels = list(map(str, list(orcid_pcs.keys())))\n",
    "y_values = list(orcid_pcs.values())\n",
    "\n",
    "p = figure(x_range=x_labels, plot_height=500, title=\"% of people with ORCIDs by school\")\n",
    "p.vbar(x=x_labels, top=y_values, width=0.9, color=PuBu[7][2])\n",
    "\n",
    "p.xgrid.grid_line_color = None\n",
    "p.y_range.start = 0\n",
    "p.y_range.end = 100\n",
    "p.xaxis.major_label_orientation = math.pi/2\n",
    "\n",
    "show(p)"
   ]
  },
  {
   "cell_type": "code",
   "execution_count": null,
   "metadata": {},
   "outputs": [],
   "source": []
  }
 ],
 "metadata": {
  "kernelspec": {
   "display_name": "Python 3",
   "language": "python",
   "name": "python3"
  },
  "language_info": {
   "codemirror_mode": {
    "name": "ipython",
    "version": 3
   },
   "file_extension": ".py",
   "mimetype": "text/x-python",
   "name": "python",
   "nbconvert_exporter": "python",
   "pygments_lexer": "ipython3",
   "version": "3.7.4"
  }
 },
 "nbformat": 4,
 "nbformat_minor": 2
}
