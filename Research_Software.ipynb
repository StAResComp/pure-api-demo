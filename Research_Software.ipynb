{
 "cells": [
  {
   "cell_type": "markdown",
   "metadata": {},
   "source": [
    "# Pure API Demonstration: Research Software\n",
    "\n",
    "These notebooks demonstrate some uses of the API of Elsevier's *Pure* Current Research Information System (CRIS). This notebook demonstrates some requests for research software.\n",
    "\n",
    "Research Software is currently recorded in Pure as a type of Research Output.\n",
    "\n",
    "**Enter API details - including an API key which gives access to the `research-outputs` endpoint - in [`_Config_DO_THIS_FIRST.ipynb`](./_Config_DO_THIS_FIRST.ipynb) and execute that notebook before executing this notebook. Additionally, the section looking at software across Schools requires access to the `organisational-units` endpoint.**"
   ]
  },
  {
   "cell_type": "code",
   "execution_count": null,
   "metadata": {},
   "outputs": [],
   "source": [
    "# We're using the requests library to talk to the API\n",
    "import requests\n",
    "\n",
    "# The display, HTML and Markdown libraries will help render HTML and Markdown\n",
    "from IPython.core.display import display, HTML, Markdown\n",
    "\n",
    "# The utility_functions.py script includes:\n",
    "# - pretty_print_json(json_object, ind=4) - prints json with indentation and colours\n",
    "import utility_functions as uf"
   ]
  },
  {
   "cell_type": "code",
   "execution_count": null,
   "metadata": {},
   "outputs": [],
   "source": [
    "# Retrieve the api_url and headers set in the config notebook\n",
    "%store -r api_url\n",
    "%store -r headers"
   ]
  },
  {
   "cell_type": "code",
   "execution_count": null,
   "metadata": {},
   "outputs": [],
   "source": [
    "# We'll be making requests to /research-outputs\n",
    "request_url = \"/\".join([api_url,\"research-outputs\"])"
   ]
  },
  {
   "cell_type": "markdown",
   "metadata": {},
   "source": [
    "Research Software has a type URI of `/dk/atira/pure/researchoutput/researchoutputtypes/nontextual/software`. We could use this as the value of the general-purpose 'q' parameter in a GET request, but to be sure we getting what we expect it's better to POST the request using JSON (or XML)."
   ]
  },
  {
   "cell_type": "code",
   "execution_count": null,
   "metadata": {},
   "outputs": [],
   "source": [
    "# We need the json library to create the POST body\n",
    "import json\n",
    "\n",
    "# Create the JSON structure using dicts/lists\n",
    "request_body = {\n",
    "    \"typeUris\": [\n",
    "        \"/dk/atira/pure/researchoutput/researchoutputtypes/nontextual/software\",\n",
    "    ]\n",
    "}\n",
    "# Serialize as JSON\n",
    "request_json = json.dumps(request_body)\n",
    "\n",
    "# We need to modify the headers to specify the type of data we're submitting\n",
    "post_headers = headers.copy()\n",
    "post_headers[\"Content-Type\"] = 'application/json'"
   ]
  },
  {
   "cell_type": "markdown",
   "metadata": {},
   "source": [
    "## Get all Research Software"
   ]
  },
  {
   "cell_type": "code",
   "execution_count": null,
   "metadata": {},
   "outputs": [],
   "source": [
    "# Make the request\n",
    "response = requests.post(url=request_url, headers=post_headers, data=request_json)\n",
    "research_software_json = response.json()\n",
    "\n",
    "# Display raw output\n",
    "uf.pretty_print_json(research_software_json)"
   ]
  },
  {
   "cell_type": "markdown",
   "metadata": {},
   "source": [
    "## Count Software by publication year\n",
    "\n",
    "Let's count number of software items published each year."
   ]
  },
  {
   "cell_type": "code",
   "execution_count": null,
   "metadata": {},
   "outputs": [],
   "source": [
    "# We're going to get a count of research software items published each year from 1989 to 2018\n",
    "pub_counts = {}\n",
    "\n",
    "for year in range(1989, 2019):\n",
    "    \n",
    "    # Add additional parameters to the request JSON\n",
    "    request_body_for_count = request_body.copy()\n",
    "    \n",
    "    # We don't need the individual records - just the summary information\n",
    "    request_body_for_count['size'] = 0\n",
    "    \n",
    "    # Specify the date range\n",
    "    request_body_for_count['publishedAfterDate'] = f'{year}-01-01'\n",
    "    request_body_for_count['publishedBeforeDate'] = f'{year + 1}-01-01'\n",
    "    \n",
    "    request_json = json.dumps(request_body_for_count)\n",
    "    \n",
    "    # Make the request\n",
    "    response = requests.post(url=request_url, headers=post_headers, data=request_json)\n",
    "    research_software_json = response.json()\n",
    "\n",
    "    # Add the result for this year to the results dictionary\n",
    "    pub_counts[year] = research_software_json[\"count\"]\n",
    "    \n",
    "print(pub_counts)"
   ]
  },
  {
   "cell_type": "markdown",
   "metadata": {},
   "source": [
    "### Visualising this data\n",
    "\n",
    "We're going to use the Bokeh library to visualise this data. We won't go into the details of using Bokeh here; it's presented as an example of what can be done with data from the API."
   ]
  },
  {
   "cell_type": "code",
   "execution_count": null,
   "metadata": {},
   "outputs": [],
   "source": [
    "from bokeh.io import show, output_notebook\n",
    "from bokeh.plotting import figure\n",
    "from bokeh.palettes import PuBu\n",
    "import math\n",
    "\n",
    "output_notebook()\n",
    "\n",
    "# x labels need to be strings\n",
    "x_labels = list(map(str, list(pub_counts.keys())))\n",
    "y_values = list(pub_counts.values())\n",
    "\n",
    "p = figure(x_range=x_labels, plot_height=500, title=\"Publication Counts by Year\")\n",
    "p.vbar(x=x_labels, top=y_values, width=0.9, color=PuBu[7][2])\n",
    "\n",
    "p.xgrid.grid_line_color = None\n",
    "p.y_range.start = 0\n",
    "p.xaxis.major_label_orientation = math.pi/2\n",
    "\n",
    "show(p)"
   ]
  },
  {
   "cell_type": "markdown",
   "metadata": {},
   "source": [
    "## Count Software items by School\n",
    "\n",
    "### Identify the schools\n",
    "\n",
    "First, we need to use the `organisational-units` endpoint to get a list of schools."
   ]
  },
  {
   "cell_type": "code",
   "execution_count": null,
   "metadata": {},
   "outputs": [],
   "source": [
    "# We'll be making a request to /organisational-units\n",
    "org_request_url = \"/\".join([api_url,\"organisational-units\"])\n",
    "\n",
    "# Create the JSON structure using dicts/lists\n",
    "# We only need the identifiers and names\n",
    "# Ordering alphabetically by name\n",
    "org_request_body = {\n",
    "  \"organisationalUnitTypeUris\": [\n",
    "    \"/dk/atira/pure/organisation/organisationtypes/organisation/school\"\n",
    "  ],\n",
    "  \"orderings\": [\n",
    "    \"name\"\n",
    "  ],\n",
    "  \"fields\": [\n",
    "    \"uuid\",\n",
    "    \"name.text.value\"\n",
    "  ],\n",
    "  \"size\": 50\n",
    "}\n",
    "# Serialize as JSON\n",
    "org_request_json = json.dumps(org_request_body)\n",
    "\n",
    "# Make the request\n",
    "response = requests.post(url=org_request_url, headers=post_headers, data=org_request_json)\n",
    "schools_json = response.json()\n",
    "\n",
    "# Display details\n",
    "for item in schools_json[\"items\"]:\n",
    "    print(item[\"uuid\"],item[\"name\"][\"text\"][0][\"value\"])"
   ]
  },
  {
   "cell_type": "markdown",
   "metadata": {},
   "source": [
    "### Get software counts by school"
   ]
  },
  {
   "cell_type": "code",
   "execution_count": null,
   "metadata": {},
   "outputs": [],
   "source": [
    "pub_counts = {}\n",
    "\n",
    "for item in schools_json[\"items\"]:\n",
    "    \n",
    "    # Add additional parameters to the request JSON\n",
    "    request_body_for_count = request_body.copy()\n",
    "    \n",
    "    # We don't need the individual records - just the summary information\n",
    "    request_body_for_count['size'] = 0\n",
    "    \n",
    "    # Specify the school\n",
    "    request_body_for_count['forPersons'] = { \"forOrganisations\": { \"uuids\": [item[\"uuid\"],] } }\n",
    "    \n",
    "    request_json = json.dumps(request_body_for_count)    \n",
    "    \n",
    "    # Make the request\n",
    "    response = requests.post(url=request_url, headers=post_headers, data=request_json)\n",
    "    research_software_json = response.json()\n",
    "    \n",
    "    # Add the result for this year to the results dictionary\n",
    "    pub_counts[item[\"name\"][\"text\"][0][\"value\"]] = research_software_json[\"count\"]\n",
    "    \n",
    "print(pub_counts)"
   ]
  },
  {
   "cell_type": "code",
   "execution_count": null,
   "metadata": {},
   "outputs": [],
   "source": [
    "output_notebook()\n",
    "\n",
    "# x labels need to be strings\n",
    "x_labels = list(map(str, list(pub_counts.keys())))\n",
    "y_values = list(pub_counts.values())\n",
    "\n",
    "p = figure(x_range=x_labels, plot_height=500, title=\"Software items by School\")\n",
    "p.vbar(x=x_labels, top=y_values, width=0.9, color=PuBu[7][2])\n",
    "\n",
    "p.xgrid.grid_line_color = None\n",
    "p.y_range.start = 0\n",
    "p.xaxis.major_label_orientation = math.pi/2\n",
    "\n",
    "show(p)"
   ]
  },
  {
   "cell_type": "code",
   "execution_count": null,
   "metadata": {},
   "outputs": [],
   "source": []
  }
 ],
 "metadata": {
  "kernelspec": {
   "display_name": "Python 3",
   "language": "python",
   "name": "python3"
  },
  "language_info": {
   "codemirror_mode": {
    "name": "ipython",
    "version": 3
   },
   "file_extension": ".py",
   "mimetype": "text/x-python",
   "name": "python",
   "nbconvert_exporter": "python",
   "pygments_lexer": "ipython3",
   "version": "3.7.6"
  }
 },
 "nbformat": 4,
 "nbformat_minor": 2
}
