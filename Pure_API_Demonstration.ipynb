{
 "cells": [
  {
   "cell_type": "markdown",
   "metadata": {},
   "source": [
    "# Pure API Demonstration\n",
    "\n",
    "This notebook demonstrates some use of the API of Elsevier's *Pure* Current Research Information System (CRIS). All requests retrieve JSON rather than XML."
   ]
  },
  {
   "cell_type": "markdown",
   "metadata": {},
   "source": [
    "## Set the Pure API details\n",
    "\n",
    "Set the details of the Pure API to be used:\n",
    "\n",
    "- **host**: The domain name for the API, starting with \"https://\" and ending **before** \"/ws...\" (or, indeed /anything)\n",
    "- **version**: The version number of the API to be used, in the form it appears in the API url e.g. 512, 513\n",
    "- **key**: The API key to be used for requests"
   ]
  },
  {
   "cell_type": "code",
   "execution_count": null,
   "metadata": {},
   "outputs": [],
   "source": [
    "# Set the host name here\n",
    "host = \"\"\n",
    "\n",
    "# Set the API version here e.g. 513\n",
    "version = \"\"\n",
    "\n",
    "# Set the API key here\n",
    "key = \"\""
   ]
  },
  {
   "cell_type": "code",
   "execution_count": null,
   "metadata": {},
   "outputs": [],
   "source": [
    "# We're using the requests library to talk to the API\n",
    "import requests"
   ]
  },
  {
   "cell_type": "code",
   "execution_count": null,
   "metadata": {},
   "outputs": [],
   "source": [
    "# Construct the API URL and set the request headers\n",
    "api_url = \"/\".join([host,\"ws\",\"api\",version])\n",
    "headers = {'Accept': 'application/json', 'api-key': key}"
   ]
  },
  {
   "cell_type": "markdown",
   "metadata": {},
   "source": [
    "## Research Outputs\n",
    "\n",
    "### Simple unqualified request"
   ]
  },
  {
   "cell_type": "code",
   "execution_count": null,
   "metadata": {},
   "outputs": [],
   "source": [
    "# Make request to /research-outputs with no parameters\n",
    "request_url = \"/\".join([api_url,\"research-outputs\"])\n",
    "response = requests.get(url=request_url, headers=headers)\n",
    "research_outputs_json = response.json()\n",
    "\n",
    "# Print the UUIDs and titles of all returned items\n",
    "for item  in research_outputs_json[\"items\"]:\n",
    "    print(item[\"uuid\"], \":\", item[\"title\"])"
   ]
  }
 ],
 "metadata": {
  "kernelspec": {
   "display_name": "Python 3",
   "language": "python",
   "name": "python3"
  },
  "language_info": {
   "codemirror_mode": {
    "name": "ipython",
    "version": 3
   },
   "file_extension": ".py",
   "mimetype": "text/x-python",
   "name": "python",
   "nbconvert_exporter": "python",
   "pygments_lexer": "ipython3",
   "version": "3.7.3"
  }
 },
 "nbformat": 4,
 "nbformat_minor": 2
}
