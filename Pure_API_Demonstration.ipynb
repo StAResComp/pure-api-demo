{
 "cells": [
  {
   "cell_type": "markdown",
   "metadata": {},
   "source": [
    "# Pure API Demonstration\n",
    "\n",
    "This notebook demonstrates some use of the API of Elsevier's *Pure* Current Research Information System (CRIS). All requests retrieve JSON rather than XML."
   ]
  },
  {
   "cell_type": "markdown",
   "metadata": {},
   "source": [
    "## Set the Pure API details\n",
    "\n",
    "Set the details of the Pure API to be used:\n",
    "\n",
    "- **host**: The domain name for the API, starting with \"https://\" and ending **before** \"/ws...\" (or, indeed /anything)\n",
    "- **version**: The version number of the API to be used, in the form it appears in the API url e.g. 512, 513\n",
    "- **key**: The API key to be used for requests"
   ]
  },
  {
   "cell_type": "code",
   "execution_count": null,
   "metadata": {},
   "outputs": [],
   "source": [
    "# Set the host name here\n",
    "host = \"https://risweb.st-andrews.ac.uk\"\n",
    "\n",
    "# Set the API version here e.g. 513\n",
    "version = \"513\"\n",
    "\n",
    "# Set the API key here\n",
    "key = \"\""
   ]
  },
  {
   "cell_type": "code",
   "execution_count": null,
   "metadata": {},
   "outputs": [],
   "source": [
    "# We're using the requests library to talk to the API\n",
    "import requests\n",
    "\n",
    "# The json and pygments library will help with the pretty-printing of the JSON\n",
    "import json\n",
    "from pygments import highlight\n",
    "from pygments.lexers import JsonLexer\n",
    "from pygments.formatters import TerminalFormatter\n",
    "\n",
    "# Function for pretty printing JSON\n",
    "def pretty_print_json(raw_json):\n",
    "    print(highlight(json.dumps(raw_json, indent=4), JsonLexer(), TerminalFormatter()))\n",
    "\n",
    "# The display and HTML libraries will help render HTML\n",
    "from IPython.core.display import display, HTML"
   ]
  },
  {
   "cell_type": "code",
   "execution_count": null,
   "metadata": {},
   "outputs": [],
   "source": [
    "# Construct the API URL and set the request headers\n",
    "api_url = \"/\".join([host,\"ws\",\"api\",version])\n",
    "headers = {'Accept': 'application/json', 'api-key': key}"
   ]
  },
  {
   "cell_type": "markdown",
   "metadata": {},
   "source": [
    "## Research Outputs\n",
    "\n",
    "### Simple unqualified request"
   ]
  },
  {
   "cell_type": "code",
   "execution_count": null,
   "metadata": {},
   "outputs": [],
   "source": [
    "# Make request to /research-outputs with no parameters\n",
    "# By default, returns most recent research outputs in descending date order\n",
    "request_url = \"/\".join([api_url,\"research-outputs\"])\n",
    "response = requests.get(url=request_url, headers=headers)\n",
    "research_outputs_json = response.json()"
   ]
  },
  {
   "cell_type": "code",
   "execution_count": null,
   "metadata": {},
   "outputs": [],
   "source": [
    "# Display raw output\n",
    "pretty_print_json(research_outputs_json)"
   ]
  },
  {
   "cell_type": "code",
   "execution_count": null,
   "metadata": {},
   "outputs": [],
   "source": [
    "# Print the UUIDs and titles of all returned items\n",
    "for item  in research_outputs_json[\"items\"]:\n",
    "    print(item[\"uuid\"], \":\", item[\"title\"])"
   ]
  },
  {
   "cell_type": "markdown",
   "metadata": {},
   "source": [
    "### Get only specified fields"
   ]
  },
  {
   "cell_type": "code",
   "execution_count": null,
   "metadata": {},
   "outputs": [],
   "source": [
    "# Set the request parameters specifying the desired fields:\n",
    "# - pureId\n",
    "# - uuid\n",
    "# - title\n",
    "# - open access status\n",
    "# - names of associated persons\n",
    "request_params = {\"fields\" : [\"pureId\", \"uuid\", \"title\", \"openAccessPermission.value\", \"personAssociations.name.*\"]}\n",
    "response = requests.get(url=request_url, headers=headers, params=request_params)\n",
    "research_outputs_json = response.json()"
   ]
  },
  {
   "cell_type": "code",
   "execution_count": null,
   "metadata": {},
   "outputs": [],
   "source": [
    "# Display raw output\n",
    "pretty_print_json(research_outputs_json)"
   ]
  },
  {
   "cell_type": "markdown",
   "metadata": {},
   "source": [
    "### Get HTML renderings\n",
    "\n",
    "Note that when requesting specific renderings, almost all other fields will not be included in the response unless explicitly requested using the \"fields\" parameter as above."
   ]
  },
  {
   "cell_type": "code",
   "execution_count": null,
   "metadata": {},
   "outputs": [],
   "source": [
    "# Set the request parameters - specifying standard, harvard and apa renderings\n",
    "request_params = {\"rendering\" : [\"standard\", \"harvard\", \"apa\"]}\n",
    "response = requests.get(url=request_url, headers=headers, params=request_params)\n",
    "research_outputs_json = response.json()"
   ]
  },
  {
   "cell_type": "code",
   "execution_count": null,
   "metadata": {},
   "outputs": [],
   "source": [
    "# Display raw output\n",
    "pretty_print_json(research_outputs_json)"
   ]
  },
  {
   "cell_type": "code",
   "execution_count": null,
   "metadata": {},
   "outputs": [],
   "source": [
    "# Render all HTML\n",
    "for item in research_outputs_json[\"items\"]:\n",
    "    # Display the format and render the content of each rendering\n",
    "    for r in item[\"rendering\"]:\n",
    "        display(HTML(\"<h4>\" + r[\"format\"] + \"</h4>\"))\n",
    "        display(HTML(r[\"value\"]))"
   ]
  },
  {
   "cell_type": "code",
   "execution_count": null,
   "metadata": {},
   "outputs": [],
   "source": []
  }
 ],
 "metadata": {
  "kernelspec": {
   "display_name": "Python 3",
   "language": "python",
   "name": "python3"
  },
  "language_info": {
   "codemirror_mode": {
    "name": "ipython",
    "version": 3
   },
   "file_extension": ".py",
   "mimetype": "text/x-python",
   "name": "python",
   "nbconvert_exporter": "python",
   "pygments_lexer": "ipython3",
   "version": "3.7.3"
  }
 },
 "nbformat": 4,
 "nbformat_minor": 2
}
