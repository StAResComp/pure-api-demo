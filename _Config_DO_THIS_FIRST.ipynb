{
 "cells": [
  {
   "cell_type": "markdown",
   "metadata": {},
   "source": [
    "# Pure API Demonstration - Config\n",
    "\n",
    "These notebooks demonstrate some uses of the API of Elsevier's *Pure* Current Research Information System (CRIS). This notebook is used to gather API configuration details for use by other notebooks.\n",
    "\n",
    "**Enter API details below and execute this notebook before using any other of the notebooks in this repository.**\n",
    "\n",
    "## Set the Pure API details\n",
    "\n",
    "Set the details of the Pure API to be used:\n",
    "\n",
    "- **host**: The domain name for the API, starting with \"https://\" and ending **before** \"/ws...\" (or, indeed, /anything)\n",
    "- **version**: The version number of the API to be used, in the form it appears in the API url e.g. 512, 513\n",
    "- **key**: The API key to be used for requests"
   ]
  },
  {
   "cell_type": "code",
   "execution_count": null,
   "metadata": {},
   "outputs": [],
   "source": [
    "# Set the host name here\n",
    "host = \"https://risweb.st-andrews.ac.uk\"\n",
    "\n",
    "# Set the API key here\n",
    "key = \"\""
   ]
  },
  {
   "cell_type": "code",
   "execution_count": null,
   "metadata": {},
   "outputs": [],
   "source": [
    "# Lets find the latest available version of the API.\n",
    "# We can request details of available versions from Pure.\n",
    "\n",
    "# We're using the requests library to talk to Pure,\n",
    "# ElementTree to parse the XML response,\n",
    "# and minidom to pretty-print the XML\n",
    "import requests\n",
    "from xml.etree import ElementTree\n",
    "import xml.dom.minidom\n",
    "\n",
    "version_details_url = \"/\".join([host, \"ws\", \"apiversions\"])\n",
    "version_details_response = requests.get(url=version_details_url)\n",
    "\n",
    "# Let's see what the XML looks like\n",
    "dom = xml.dom.minidom.parseString(version_details_response.content)\n",
    "print(dom.toprettyxml())"
   ]
  },
  {
   "cell_type": "code",
   "execution_count": null,
   "metadata": {},
   "outputs": [],
   "source": [
    "# Let's parse the XML. We want the version number for the latest available version.\n",
    "version_details_xml = ElementTree.fromstring(version_details_response.content)\n",
    "\n",
    "# We want the contents of the first 'version' tag, so we can use ElementTree's find()\n",
    "version = version_details_xml.find(\"supportedVersions\").find(\"supportedVersion\").find(\"version\").text\n",
    "\n",
    "# Construct the API URL and set the request headers\n",
    "api_url = \"/\".join([host,\"ws\",\"api\",version])\n",
    "headers = {'Accept': 'application/json', 'api-key': key}\n",
    "\n",
    "# Store API URL, request headers and version for use in other notebooks\n",
    "%store api_url\n",
    "%store headers\n",
    "%store version"
   ]
  },
  {
   "cell_type": "code",
   "execution_count": null,
   "metadata": {},
   "outputs": [],
   "source": []
  }
 ],
 "metadata": {
  "kernelspec": {
   "display_name": "Python 3",
   "language": "python",
   "name": "python3"
  },
  "language_info": {
   "codemirror_mode": {
    "name": "ipython",
    "version": 3
   },
   "file_extension": ".py",
   "mimetype": "text/x-python",
   "name": "python",
   "nbconvert_exporter": "python",
   "pygments_lexer": "ipython3",
   "version": "3.7.3"
  }
 },
 "nbformat": 4,
 "nbformat_minor": 2
}
